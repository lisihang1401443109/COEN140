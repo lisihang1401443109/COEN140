{
 "cells": [
  {
   "cell_type": "code",
   "execution_count": 1,
   "metadata": {},
   "outputs": [],
   "source": [
    "import numpy as np\n",
    "from scipy.sparse import csr_matrix\n",
    "from sklearn.feature_extraction.text import TfidfTransformer\n",
    "from collections import deque\n",
    "from sklearn.metrics import silhouette_score\n",
    "from sklearn.metrics.pairwise import cosine_similarity\n",
    "from sklearn.decomposition import PCA"
   ]
  },
  {
   "cell_type": "code",
   "execution_count": 2,
   "metadata": {},
   "outputs": [
    {
     "name": "stdout",
     "output_type": "stream",
     "text": [
      "126355\n"
     ]
    }
   ],
   "source": [
    "np.random.seed(10)\n",
    "\n",
    "data = []\n",
    "row_ind = []\n",
    "col_ind = []\n",
    "\n",
    "max_c = 0\n",
    "\n",
    "with open('train.dat') as f:\n",
    "    for i, line in enumerate(f):\n",
    "        r = np.array(line.split(' '))\n",
    "        r = r.reshape((int(len(r)/2), 2))\n",
    "        for j, k in r:\n",
    "            row_ind.append(i)\n",
    "            col_ind.append(int(j))\n",
    "            max_c = max(max_c, int(j))\n",
    "            data.append(int(k))\n",
    "print(max_c)\n",
    "mat = csr_matrix((np.array(data), (np.array(row_ind), np.array(col_ind))) , shape=(8580, max_c+1))"
   ]
  },
  {
   "cell_type": "code",
   "execution_count": null,
   "metadata": {},
   "outputs": [],
   "source": [
    "tfidf = TfidfTransformer()\n",
    "tfidf_mat = tfidf.fit_transform(mat)\n",
    "pca = PCA(n_components=12)\n",
    "tfidf_mat_pca = pca.fit_transform(tfidf_mat.toarray())"
   ]
  },
  {
   "cell_type": "code",
   "execution_count": null,
   "metadata": {},
   "outputs": [],
   "source": [
    "from sklearn.cluster import DBSCAN, KMeans"
   ]
  },
  {
   "cell_type": "code",
   "execution_count": null,
   "metadata": {},
   "outputs": [],
   "source": [
    "kmeans = KMeans(n_clusters = 200, max_iter = 300, verbose=1)"
   ]
  },
  {
   "cell_type": "code",
   "execution_count": null,
   "metadata": {},
   "outputs": [],
   "source": [
    "kmeans.fit(tfidf_mat_pca)\n",
    "centers = kmeans.cluster_centers_"
   ]
  },
  {
   "cell_type": "code",
   "execution_count": null,
   "metadata": {},
   "outputs": [],
   "source": [
    "centers = kmeans.cluster_centers_\n",
    "# for center in centers:\n",
    "#     print(np.linalg.norm(center))\n",
    "centers_sparse = csr_matrix(centers)\n",
    "sims_t = centers_sparse.dot(centers_sparse.T).toarray()\n",
    "# sims_t[1,2]"
   ]
  },
  {
   "cell_type": "code",
   "execution_count": null,
   "metadata": {},
   "outputs": [],
   "source": [
    "def cossim(v1, v2):\n",
    "    return sims_t[v1,v2] / ((sims_t[v1,v1]*sims_t[v2,v2])**0.5)"
   ]
  },
  {
   "cell_type": "code",
   "execution_count": null,
   "metadata": {},
   "outputs": [],
   "source": [
    "sims_matrix = np.zeros((len(centers), len(centers)), dtype='float32')\n",
    "# sims_matrix = cosine_similarity(centers_sparse, centers_sparse)\n",
    "\n"
   ]
  },
  {
   "cell_type": "code",
   "execution_count": null,
   "metadata": {},
   "outputs": [],
   "source": [
    "for i in range(len(centers)):\n",
    "    for j in range(i, len(centers)):\n",
    "#         print(i, j)\n",
    "        if i == j:\n",
    "            sims_matrix[i, j] = 1.0\n",
    "            continue\n",
    "        sims_matrix[i,j] = cossim(i, j)\n",
    "        sims_matrix[j,i] = sims_matrix[i,j]\n",
    "sims_matrix\n"
   ]
  },
  {
   "cell_type": "code",
   "execution_count": null,
   "metadata": {},
   "outputs": [],
   "source": []
  },
  {
   "cell_type": "code",
   "execution_count": null,
   "metadata": {},
   "outputs": [],
   "source": []
  },
  {
   "cell_type": "code",
   "execution_count": null,
   "metadata": {},
   "outputs": [],
   "source": [
    "def dbscan(sims, eps=0.5, minpts=10):\n",
    "    graph = np.ndarray(shape=(sims.shape[0],), dtype=object)\n",
    "    label = [0]*tfidf_mat.shape[0]\n",
    "    kernels = []\n",
    "    for i in range(sims.shape[0]):\n",
    "        cns = [j for j in range(sims.shape[0]) if sims[i, j] > eps and not i == j]\n",
    "        graph[i] = np.array(cns)\n",
    "        if len(cns) > minpts:\n",
    "            label[i] = 2\n",
    "            kernels.append(i)\n",
    "\n",
    "\n",
    "\n",
    "    for kernel in kernels:\n",
    "        for pt in graph[kernel]:\n",
    "            if label[pt] < 2:\n",
    "                label[pt] = 1\n",
    "\n",
    "    conncomps = []\n",
    "    all_set = set([x for x in range(len(label)) if not label[x] == 0])\n",
    "    while all_set:\n",
    "        a = all_set.pop()\n",
    "        conncomp = []\n",
    "        aqueue = deque([a])\n",
    "        while aqueue:\n",
    "            n = aqueue.pop()\n",
    "            for m in graph[n]:\n",
    "                if m in all_set:\n",
    "                    all_set.remove(m)\n",
    "                    aqueue.append(m)\n",
    "                    conncomp.append(m)\n",
    "        conncomps.append(conncomp)\n",
    "\n",
    "    # len(conncomps), conncomps\n",
    "\n",
    "    dl = np.array([-1]*len(graph))\n",
    "\n",
    "    for i in range(len(conncomps)):\n",
    "        for index in conncomps[i]:\n",
    "    #         print(index)\n",
    "            dl[index] = i\n",
    "    print(len(conncomps))\n",
    "    return dl"
   ]
  },
  {
   "cell_type": "code",
   "execution_count": null,
   "metadata": {},
   "outputs": [],
   "source": [
    "# for i in dl:\n",
    "#     if not i == -1:\n",
    "#         print(i)\n",
    "# dl\n",
    "for i in range(1):\n",
    "    dl = dbscan(sims_matrix, 0.85, 5)\n",
    "    print(i, dl)"
   ]
  },
  {
   "cell_type": "code",
   "execution_count": null,
   "metadata": {},
   "outputs": [],
   "source": [
    "# np.count_nonzero(dl == -1)/len(dl), np.count_nonzero(dl == 0)/len(dl)\n"
   ]
  },
  {
   "cell_type": "code",
   "execution_count": null,
   "metadata": {},
   "outputs": [],
   "source": [
    "# silhouette_score(cosine_similarity(tfidf_mat, tfidf_mat), dl)"
   ]
  },
  {
   "cell_type": "code",
   "execution_count": null,
   "metadata": {},
   "outputs": [],
   "source": [
    "labels = kmeans.labels_\n",
    "labels.shape"
   ]
  },
  {
   "cell_type": "code",
   "execution_count": null,
   "metadata": {},
   "outputs": [],
   "source": [
    "ans = []\n",
    "for l in labels:\n",
    "    ans.append(dl[l]+1)\n",
    "\n",
    "# ans.__len__(), ans"
   ]
  },
  {
   "cell_type": "code",
   "execution_count": null,
   "metadata": {},
   "outputs": [],
   "source": [
    "# dist_mat = tfidf_mat.dot(tfidf_mat.T).toarray()\n",
    "# dist_mat.shape"
   ]
  },
  {
   "cell_type": "code",
   "execution_count": null,
   "metadata": {},
   "outputs": [],
   "source": [
    "# # np.diagonal(dist_mat.reshape((8580, 8580,)))\n",
    "# for i in range(len(dist_mat)):\n",
    "#     for j in range(len(dist_mat[i])):\n",
    "# #         print(i,j)\n",
    "#         dist_mat[i,j] = 1-dist_mat[i,j]"
   ]
  },
  {
   "cell_type": "code",
   "execution_count": null,
   "metadata": {},
   "outputs": [],
   "source": [
    "dist_mat"
   ]
  },
  {
   "cell_type": "code",
   "execution_count": null,
   "metadata": {},
   "outputs": [],
   "source": [
    "# silhouette_score(tfidf_mat.toarray(), ans, metric='cosine')"
   ]
  },
  {
   "cell_type": "code",
   "execution_count": null,
   "metadata": {},
   "outputs": [],
   "source": [
    "with open('res9.dat', 'w') as f:\n",
    "    for a in ans:\n",
    "        f.write(str(a)+'\\n')"
   ]
  },
  {
   "cell_type": "code",
   "execution_count": null,
   "metadata": {},
   "outputs": [],
   "source": []
  },
  {
   "cell_type": "code",
   "execution_count": null,
   "metadata": {},
   "outputs": [],
   "source": []
  },
  {
   "cell_type": "code",
   "execution_count": null,
   "metadata": {},
   "outputs": [],
   "source": []
  },
  {
   "cell_type": "code",
   "execution_count": null,
   "metadata": {},
   "outputs": [],
   "source": []
  },
  {
   "cell_type": "code",
   "execution_count": null,
   "metadata": {},
   "outputs": [],
   "source": []
  }
 ],
 "metadata": {
  "kernelspec": {
   "display_name": "hubpy3.9-detectron2",
   "language": "python",
   "name": "hubpy3.9-detectron2"
  },
  "language_info": {
   "codemirror_mode": {
    "name": "ipython",
    "version": 3
   },
   "file_extension": ".py",
   "mimetype": "text/x-python",
   "name": "python",
   "nbconvert_exporter": "python",
   "pygments_lexer": "ipython3",
   "version": "3.9.9"
  }
 },
 "nbformat": 4,
 "nbformat_minor": 4
}
