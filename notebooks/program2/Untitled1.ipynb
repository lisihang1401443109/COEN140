{
 "cells": [
  {
   "cell_type": "code",
   "execution_count": 32,
   "metadata": {},
   "outputs": [
    {
     "name": "stderr",
     "output_type": "stream",
     "text": [
      "/WAVE/users/unix/sli13/.local/lib/python3.9/site-packages/sklearn/feature_extraction/text.py:516: UserWarning: The parameter 'token_pattern' will not be used since 'tokenizer' is not None'\n",
      "  warnings.warn(\n"
     ]
    }
   ],
   "source": [
    "import numpy as np\n",
    "\n",
    "X = []\n",
    "y = []\n",
    "\n",
    "with open('train.dat', 'r') as f:\n",
    "    for line in f:\n",
    "        _y, _X = line.split('\\t')\n",
    "        y.append(int(_y == '1'))\n",
    "        X.append(_X[:-1])\n",
    "X = np.array(X)\n",
    "y = np.array(y)\n",
    "X.shape\n",
    "\n",
    "def tknzr(x):\n",
    "    x_1 = [x[i] for i in range(len(x))]\n",
    "    x_2 = [x[i]+x[i+1] for i in range(len(x)-1)]\n",
    "    x_3 = [x[i]+x[i+1]+x[i+2] for i in range(len(x)-2)]\n",
    "    x_4 = [x[i]+x[i+1]+x[i+2]+x[i+3] for i in range(len(x)-3)]\n",
    "    xx = x_3 + x_4 + x_2\n",
    "    return xx\n",
    "\n",
    "testo = []\n",
    "with open('test.dat', 'r') as f:\n",
    "    for line in f:\n",
    "        testo.append(line[:-1])\n",
    "testo = np.array(testo)\n",
    "v_set = np.append(testo, X)\n",
    "\n",
    "from sklearn.feature_extraction.text import CountVectorizer\n",
    "from sklearn.model_selection import train_test_split, StratifiedKFold\n",
    "from sklearn.metrics import matthews_corrcoef as mcc\n",
    "from sklearn.svm import SVC\n",
    "from sklearn.decomposition import PCA\n",
    "from sklearn.ensemble import AdaBoostClassifier as abc\n",
    "from scipy.sparse import csr_matrix\n",
    "\n",
    "vectorizer = CountVectorizer(tokenizer=tknzr)\n",
    "\n",
    "vectorizer.fit(v_set)\n",
    "\n",
    "np.random.seed(10)\n",
    "\n",
    "X_vec = vectorizer.transform(X)\n",
    "\n",
    "skf = StratifiedKFold(n_splits = 5, shuffle = True, random_state = 40)\n",
    "split = skf.split(X_vec, y)\n",
    "X_vec_arr = X_vec.toarray()\n",
    "\n",
    "mm = []\n",
    "for train, test in split:\n",
    "    mm.append((train, test))\n",
    "\n",
    "# for m in range(1):\n",
    "#     mc = 0\n",
    "#     for k, (train, test) in enumerate(mm):\n",
    "#         X_vec_train = []\n",
    "#         y_train = []\n",
    "#         for i in train:\n",
    "#             X_vec_train.append(X_vec_arr[i])\n",
    "#             y_train.append(y[i])\n",
    "#         X_vec_test = []\n",
    "#         y_test = []\n",
    "#         for i in test:\n",
    "#             X_vec_test.append(X_vec_arr[i])\n",
    "#             y_test.append(y[i])\n",
    "#         X_vec_test = np.array(X_vec_test)\n",
    "#         y_test = np.array(y_test)\n",
    "#         X_vec_train = np.array(X_vec_train)\n",
    "#         y_train = np.array(y_train)\n",
    "#         X_train_vec = csr_matrix(X_vec_train)\n",
    "#         X_test_vec = csr_matrix(X_vec_test)\n",
    "\n",
    "#         svc = abc(random_state = 30, n_estimators = i*10)\n",
    "# #         svc = SVC(C=10, kernel='poly', degree=2, random_state=30, coef0 = 2.5, tol = 0.001, probability=True)\n",
    "#         svc.fit(X_train_vec, y_train)\n",
    "#         pred = svc.predict(X_test_vec)\n",
    "# #         print(k, mcc(y_test, pred))\n",
    "#         mc += mcc(y_test, pred)\n",
    "#     print(m, mc/5)\n",
    "    \n",
    "# X_train_vec, X_test_vec, y_train, y_test = train_test_split(X_vec, y, test_size = 0.3, random_state = 60, stratify = [0, 1])"
   ]
  },
  {
   "cell_type": "code",
   "execution_count": 36,
   "metadata": {},
   "outputs": [
    {
     "name": "stdout",
     "output_type": "stream",
     "text": [
      "0 3.987761659531656e-01\n",
      "1 4.064929878424972e-01\n",
      "2 3.1385076732017947e-01\n",
      "3 4.4601539744761465e-01\n",
      "4 4.37488466817384e-01\n"
     ]
    }
   ],
   "source": [
    "for k, (train, test) in enumerate(mm):\n",
    "    X_vec_train = []\n",
    "    y_train = []\n",
    "    for i in train:\n",
    "        X_vec_train.append(X_vec_arr[i])\n",
    "        y_train.append(y[i])\n",
    "    X_vec_test = []\n",
    "    y_test = []\n",
    "    for i in test:\n",
    "        X_vec_test.append(X_vec_arr[i])\n",
    "        y_test.append(y[i])\n",
    "    X_vec_test = np.array(X_vec_test)\n",
    "    y_test = np.array(y_test)\n",
    "    X_vec_train = np.array(X_vec_train)\n",
    "    y_train = np.array(y_train)\n",
    "    X_train_vec = csr_matrix(X_vec_train)\n",
    "    X_test_vec = csr_matrix(X_vec_test)\n",
    "    svc = abc(random_state = 30, n_estimators = 50, learning_rate = 0.1, algorithm='SAMME.R')\n",
    "    svc.fit(X_train_vec, y_train)\n",
    "    pred = svc.predict(X_test_vec)\n",
    "    print(k,mcc(y_test, pred))"
   ]
  },
  {
   "cell_type": "code",
   "execution_count": 6,
   "metadata": {},
   "outputs": [],
   "source": [
    "svc = SVC(C=10, kernel='poly', degree=2, random_state=30, coef0 = 2.3, tol = 0.0001, probability=True)\n",
    "svc.fit(X_vec, y)\n",
    "\n",
    "testo_vec = vectorizer.transform(testo)\n",
    "\n",
    "pred = svc.predict(testo_vec)\n",
    "\n",
    "\n",
    "with open('outto3.dat', 'w') as f:\n",
    "    for i in pred:\n",
    "        f.write(str(1 if int(i+0.5)==1 else -1)+'\\n')"
   ]
  },
  {
   "cell_type": "code",
   "execution_count": 23,
   "metadata": {},
   "outputs": [],
   "source": [
    "import tensorflow as tf\n",
    "\n",
    "from tensorflow.keras import models, layers\n",
    "from tensorflow.keras.preprocessing.sequence import pad_sequences\n",
    "\n",
    "from gensim.corpora import Dictionary\n",
    "\n",
    "X_tokens = [tknzr(x) for x in X]\n",
    "vocab = Dictionary(X_tokens)\n",
    "X_seq = [vocab.doc2idx(x) for x in X_tokens]"
   ]
  },
  {
   "cell_type": "code",
   "execution_count": 54,
   "metadata": {},
   "outputs": [
    {
     "data": {
      "text/plain": [
       "(1566, 129)"
      ]
     },
     "execution_count": 54,
     "metadata": {},
     "output_type": "execute_result"
    }
   ],
   "source": [
    "X_seq = pad_sequences(X_seq)\n",
    "X_seq.shape"
   ]
  },
  {
   "cell_type": "code",
   "execution_count": 110,
   "metadata": {},
   "outputs": [],
   "source": [
    "model = models.Sequential()\n",
    "model.add(layers.Embedding(input_dim = len(vocab)+1, output_dim = 2, input_length = 129, mask_zero = True))\n",
    "model.add(layers.Conv1D(256, 7, activation='relu'))\n",
    "model.add(layers.MaxPool1D(pool_size=96, padding='valid'))\n",
    "model.add(layers.Dense(1, activation='sigmoid'))"
   ]
  },
  {
   "cell_type": "code",
   "execution_count": 111,
   "metadata": {},
   "outputs": [],
   "source": [
    "model.compile(optimizer='Adam', loss=\"binary_crossentropy\", metrics=['mse'])"
   ]
  },
  {
   "cell_type": "code",
   "execution_count": 112,
   "metadata": {},
   "outputs": [],
   "source": [
    "np.random.seed(10)\n",
    "X_train, X_test, y_train, y_test = train_test_split(X_seq, y, test_size = 0.3, random_state = 10)\n",
    "y_train = np.asarray(y_train).astype('float32').reshape((-1,1))\n",
    "y_test = np.asarray(y_test).astype('float32').reshape((-1,1))\n",
    "y  = np.asarray(y).astype('float32').reshape((-1,1))"
   ]
  },
  {
   "cell_type": "code",
   "execution_count": 113,
   "metadata": {},
   "outputs": [
    {
     "name": "stdout",
     "output_type": "stream",
     "text": [
      "Epoch 1/20\n",
      "35/35 [==============================] - 1s 7ms/step - loss: 0.5747 - mse: 0.1918\n",
      "Epoch 2/20\n",
      "35/35 [==============================] - 0s 7ms/step - loss: 0.3500 - mse: 0.0960\n",
      "Epoch 3/20\n",
      "35/35 [==============================] - 0s 7ms/step - loss: 0.2907 - mse: 0.0790\n",
      "Epoch 4/20\n",
      "35/35 [==============================] - 0s 7ms/step - loss: 0.2831 - mse: 0.0777\n",
      "Epoch 5/20\n",
      "35/35 [==============================] - 0s 7ms/step - loss: 0.2713 - mse: 0.0758\n",
      "Epoch 6/20\n",
      "35/35 [==============================] - 0s 7ms/step - loss: 0.2562 - mse: 0.0736\n",
      "Epoch 7/20\n",
      "35/35 [==============================] - 0s 7ms/step - loss: 0.2381 - mse: 0.0708\n",
      "Epoch 8/20\n",
      "35/35 [==============================] - 0s 7ms/step - loss: 0.2195 - mse: 0.0677\n",
      "Epoch 9/20\n",
      "35/35 [==============================] - 0s 7ms/step - loss: 0.2044 - mse: 0.0650\n",
      "Epoch 10/20\n",
      "35/35 [==============================] - 0s 7ms/step - loss: 0.1919 - mse: 0.0629\n",
      "Epoch 11/20\n",
      "35/35 [==============================] - 0s 7ms/step - loss: 0.1841 - mse: 0.0614\n",
      "Epoch 12/20\n",
      "35/35 [==============================] - 0s 7ms/step - loss: 0.1804 - mse: 0.0607\n",
      "Epoch 13/20\n",
      "35/35 [==============================] - 0s 7ms/step - loss: 0.1778 - mse: 0.0605\n",
      "Epoch 14/20\n",
      "35/35 [==============================] - 0s 7ms/step - loss: 0.1755 - mse: 0.0599\n",
      "Epoch 15/20\n",
      "35/35 [==============================] - 0s 7ms/step - loss: 0.1746 - mse: 0.0598\n",
      "Epoch 16/20\n",
      "35/35 [==============================] - 0s 7ms/step - loss: 0.1733 - mse: 0.0595\n",
      "Epoch 17/20\n",
      "35/35 [==============================] - 0s 7ms/step - loss: 0.1732 - mse: 0.0597\n",
      "Epoch 18/20\n",
      "35/35 [==============================] - 0s 7ms/step - loss: 0.1724 - mse: 0.0594\n",
      "Epoch 19/20\n",
      "35/35 [==============================] - 0s 7ms/step - loss: 0.1722 - mse: 0.0595\n",
      "Epoch 20/20\n",
      "35/35 [==============================] - 0s 7ms/step - loss: 0.1721 - mse: 0.0595\n"
     ]
    },
    {
     "data": {
      "text/plain": [
       "<keras.callbacks.History at 0x7f4098f67520>"
      ]
     },
     "execution_count": 113,
     "metadata": {},
     "output_type": "execute_result"
    }
   ],
   "source": [
    "model.fit(X_train, y_train, epochs=20)"
   ]
  },
  {
   "cell_type": "code",
   "execution_count": 114,
   "metadata": {},
   "outputs": [
    {
     "name": "stdout",
     "output_type": "stream",
     "text": [
      "15/15 [==============================] - 0s 2ms/step - loss: 0.2583 - mse: 0.0764\n"
     ]
    },
    {
     "data": {
      "text/plain": [
       "[0.2582729160785675, 0.07642751187086105]"
      ]
     },
     "execution_count": 114,
     "metadata": {},
     "output_type": "execute_result"
    }
   ],
   "source": [
    "model.evaluate(X_test, y_test)"
   ]
  },
  {
   "cell_type": "code",
   "execution_count": 115,
   "metadata": {},
   "outputs": [],
   "source": [
    "# from sklearn.svm import SVC\n",
    "\n",
    "# svc = SVC(random_state=42, C=100, kernel='linear')\n",
    "\n",
    "# svc.fit(X_train_vec, y_train)\n",
    "\n",
    "# pred = svc.predict(X_test_vec)\n",
    "\n",
    "# # mcc(pred, y_test)\n",
    "\n",
    "# X_vec = vectorizer.transform(X)\n",
    "# svc.fit(X_vec, y)"
   ]
  },
  {
   "cell_type": "code",
   "execution_count": 116,
   "metadata": {},
   "outputs": [
    {
     "name": "stdout",
     "output_type": "stream",
     "text": [
      "49/49 [==============================] - 0s 7ms/step - loss: 0.1967 - mse: 0.0645\n"
     ]
    },
    {
     "data": {
      "text/plain": [
       "<keras.callbacks.History at 0x7f4095c90d60>"
      ]
     },
     "execution_count": 116,
     "metadata": {},
     "output_type": "execute_result"
    }
   ],
   "source": [
    "model.fit(X_seq, y)"
   ]
  },
  {
   "cell_type": "code",
   "execution_count": null,
   "metadata": {},
   "outputs": [],
   "source": []
  },
  {
   "cell_type": "code",
   "execution_count": null,
   "metadata": {},
   "outputs": [],
   "source": []
  },
  {
   "cell_type": "code",
   "execution_count": 119,
   "metadata": {},
   "outputs": [
    {
     "name": "stderr",
     "output_type": "stream",
     "text": [
      "/local/scratch/65422/ipykernel_109913/620370005.py:6: VisibleDeprecationWarning: Creating an ndarray from ragged nested sequences (which is a list-or-tuple of lists-or-tuples-or ndarrays with different lengths or shapes) is deprecated. If you meant to do this, you must specify 'dtype=object' when creating the ndarray.\n",
      "  testo_tokens = np.array([tknzr(x) for x in testo])\n",
      "/local/scratch/65422/ipykernel_109913/620370005.py:7: VisibleDeprecationWarning: Creating an ndarray from ragged nested sequences (which is a list-or-tuple of lists-or-tuples-or ndarrays with different lengths or shapes) is deprecated. If you meant to do this, you must specify 'dtype=object' when creating the ndarray.\n",
      "  testo_seq = np.array([vocab.doc2idx(x, unknown_word_index = 0) for x in testo_tokens])\n"
     ]
    }
   ],
   "source": [
    "testo = []\n",
    "with open('test.dat', 'r') as f:\n",
    "    for line in f:\n",
    "        testo.append(line[:-1])\n",
    "testo = np.array(testo)\n",
    "testo_tokens = np.array([tknzr(x) for x in testo])\n",
    "testo_seq = np.array([vocab.doc2idx(x, unknown_word_index = 0) for x in testo_tokens])\n",
    "testo_seq = pad_sequences(testo_seq)\n",
    "\n",
    "p = model.predict(testo_seq)\n",
    "\n",
    "with open('outto1.dat', 'w') as f:\n",
    "    for i in p:\n",
    "        f.write(str(1 if int(i+0.5)==1 else -1)+'\\n')"
   ]
  },
  {
   "cell_type": "code",
   "execution_count": null,
   "metadata": {},
   "outputs": [],
   "source": []
  },
  {
   "cell_type": "code",
   "execution_count": null,
   "metadata": {},
   "outputs": [],
   "source": []
  },
  {
   "cell_type": "code",
   "execution_count": 50,
   "metadata": {},
   "outputs": [
    {
     "name": "stderr",
     "output_type": "stream",
     "text": [
      "2022-05-10 15:22:50.262029: W tensorflow/stream_executor/platform/default/dso_loader.cc:64] Could not load dynamic library 'libcudart.so.11.0'; dlerror: libcudart.so.11.0: cannot open shared object file: No such file or directory\n",
      "2022-05-10 15:22:50.262093: I tensorflow/stream_executor/cuda/cudart_stub.cc:29] Ignore above cudart dlerror if you do not have a GPU set up on your machine.\n"
     ]
    }
   ],
   "source": [
    "# import tensorflow as tf\n",
    "\n",
    "# def to_sparse_tensor(X):\n",
    "#     coo = X.tocoo()\n",
    "#     indices = np.mat([coo.row, coo.col]).transpose()\n",
    "#     return tf.SparseTensor(indices, coo.data, coo.shape)"
   ]
  },
  {
   "cell_type": "code",
   "execution_count": 49,
   "metadata": {},
   "outputs": [
    {
     "ename": "NameError",
     "evalue": "name 'tf' is not defined",
     "output_type": "error",
     "traceback": [
      "\u001b[0;31m---------------------------------------------------------------------------\u001b[0m",
      "\u001b[0;31mNameError\u001b[0m                                 Traceback (most recent call last)",
      "\u001b[0;32m/local/scratch/65376/ipykernel_315678/3558263752.py\u001b[0m in \u001b[0;36m<module>\u001b[0;34m\u001b[0m\n\u001b[0;32m----> 1\u001b[0;31m \u001b[0mto_sparse_tensor\u001b[0m\u001b[0;34m(\u001b[0m\u001b[0mX_train_vec\u001b[0m\u001b[0;34m)\u001b[0m\u001b[0;34m\u001b[0m\u001b[0;34m\u001b[0m\u001b[0m\n\u001b[0m",
      "\u001b[0;32m/local/scratch/65376/ipykernel_315678/2866725305.py\u001b[0m in \u001b[0;36mto_sparse_tensor\u001b[0;34m(X)\u001b[0m\n\u001b[1;32m      2\u001b[0m     \u001b[0mcoo\u001b[0m \u001b[0;34m=\u001b[0m \u001b[0mX\u001b[0m\u001b[0;34m.\u001b[0m\u001b[0mtocoo\u001b[0m\u001b[0;34m(\u001b[0m\u001b[0;34m)\u001b[0m\u001b[0;34m\u001b[0m\u001b[0;34m\u001b[0m\u001b[0m\n\u001b[1;32m      3\u001b[0m     \u001b[0mindices\u001b[0m \u001b[0;34m=\u001b[0m \u001b[0mnp\u001b[0m\u001b[0;34m.\u001b[0m\u001b[0mmat\u001b[0m\u001b[0;34m(\u001b[0m\u001b[0;34m[\u001b[0m\u001b[0mcoo\u001b[0m\u001b[0;34m.\u001b[0m\u001b[0mrow\u001b[0m\u001b[0;34m,\u001b[0m \u001b[0mcoo\u001b[0m\u001b[0;34m.\u001b[0m\u001b[0mcol\u001b[0m\u001b[0;34m]\u001b[0m\u001b[0;34m)\u001b[0m\u001b[0;34m.\u001b[0m\u001b[0mtranspose\u001b[0m\u001b[0;34m(\u001b[0m\u001b[0;34m)\u001b[0m\u001b[0;34m\u001b[0m\u001b[0;34m\u001b[0m\u001b[0m\n\u001b[0;32m----> 4\u001b[0;31m     \u001b[0;32mreturn\u001b[0m \u001b[0mtf\u001b[0m\u001b[0;34m.\u001b[0m\u001b[0mSparseTensor\u001b[0m\u001b[0;34m(\u001b[0m\u001b[0mindices\u001b[0m\u001b[0;34m,\u001b[0m \u001b[0mcoo\u001b[0m\u001b[0;34m.\u001b[0m\u001b[0mdata\u001b[0m\u001b[0;34m,\u001b[0m \u001b[0mcoo\u001b[0m\u001b[0;34m.\u001b[0m\u001b[0mshape\u001b[0m\u001b[0;34m)\u001b[0m\u001b[0;34m\u001b[0m\u001b[0;34m\u001b[0m\u001b[0m\n\u001b[0m",
      "\u001b[0;31mNameError\u001b[0m: name 'tf' is not defined"
     ]
    }
   ],
   "source": [
    "# to_sparse_tensor(X_train_vec)"
   ]
  },
  {
   "cell_type": "code",
   "execution_count": null,
   "metadata": {},
   "outputs": [],
   "source": []
  }
 ],
 "metadata": {
  "kernelspec": {
   "display_name": "hubpy3.9-detectron2",
   "language": "python",
   "name": "hubpy3.9-detectron2"
  },
  "language_info": {
   "codemirror_mode": {
    "name": "ipython",
    "version": 3
   },
   "file_extension": ".py",
   "mimetype": "text/x-python",
   "name": "python",
   "nbconvert_exporter": "python",
   "pygments_lexer": "ipython3",
   "version": "3.9.9"
  }
 },
 "nbformat": 4,
 "nbformat_minor": 4
}
