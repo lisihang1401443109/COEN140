{
 "cells": [
  {
   "cell_type": "code",
   "execution_count": 2,
   "metadata": {},
   "outputs": [],
   "source": [
    "import numpy as np\n",
    "from numpy import array\n",
    "from sklearn.feature_extraction.text import TfidfVectorizer\n",
    "\n",
    "test_x_path = './test.dat'\n",
    "test_y_path = './format.dat'\n",
    "train_x_path = './train.dat'\n",
    "\n",
    "x_train, y_train, x_test, y_test = [], [], [], []\n",
    "\n",
    "with open(train_x_path, 'r') as f:\n",
    "    for line in f:\n",
    "        i, j = line.split('\\t')\n",
    "        y_train.append(int(i))\n",
    "        x_train.append(j)\n",
    "\n",
    "with open(test_x_path, 'r') as f:\n",
    "    for line in f:\n",
    "        x_test.append(line)\n",
    "        \n",
    "with open(test_y_path, 'r') as f:\n",
    "    for line in f:\n",
    "        y_test.append(int(line))\n",
    "\n",
    "x_train = array(x_train)\n",
    "y_train = array(y_train)\n",
    "x_test = array(x_test)\n",
    "y_test = array(y_test)"
   ]
  },
  {
   "cell_type": "code",
   "execution_count": 13,
   "metadata": {},
   "outputs": [],
   "source": [
    "from sklearn.model_selection import train_test_split\n",
    "from sklearn.metrics import f1_score"
   ]
  },
  {
   "cell_type": "code",
   "execution_count": 34,
   "metadata": {},
   "outputs": [
    {
     "name": "stdout",
     "output_type": "stream",
     "text": [
      "1\n",
      "1001\n",
      "2001\n",
      "15 0.4716117776357396\n",
      "1\n",
      "1001\n",
      "2001\n",
      "16 0.47406725026090746\n",
      "1\n",
      "1001\n",
      "2001\n",
      "17 0.47119936930115164\n",
      "1\n",
      "1001\n",
      "2001\n",
      "18 0.47025381665010224\n",
      "1\n",
      "1001\n",
      "2001\n",
      "19 0.4709332692808793\n",
      "1\n",
      "1001\n",
      "2001\n",
      "20 0.4691877154827499\n",
      "1\n",
      "1001\n",
      "2001\n",
      "21 0.4676714781038446\n"
     ]
    }
   ],
   "source": [
    "\n",
    "xtrain, xtest, ytrain, ytest = train_test_split(x_train, y_train, test_size = 0.2, random_state = 42)\n",
    "# from gensim.utils import simple_preprocess\n",
    "\n",
    "vectorizer = TfidfVectorizer(token_pattern = r'(?u)\\b\\w\\w\\w\\w+\\b')\n",
    "\n",
    "xtrain = vectorizer.fit_transform(xtrain)\n",
    "xtest = vectorizer.transform(xtest)\n",
    "for k in range(15, 22, 1):\n",
    "    cossims = xtest.dot(xtrain.T).toarray()\n",
    "    ans = []\n",
    "    for m, csms in enumerate(cossims):\n",
    "        sims = array([(csms[i], int(i)) for i in range(len(csms))], dtype=object)\n",
    "        sims = array(sorted(sims, key=lambda x: x[0], reverse=True)[:k])\n",
    "        ans_arr = array([0.0]*6)\n",
    "        for i, j in sims:\n",
    "            ans_arr[ytrain[j]] += (1/(1.001-i)) if i > 0.1 else 0\n",
    "        ans.append(ans_arr.argmax())\n",
    "        if m%1000==1:\n",
    "            print(m)\n",
    "    print(k, f1_score(ytest, ans, average='macro'))"
   ]
  },
  {
   "cell_type": "code",
   "execution_count": null,
   "metadata": {},
   "outputs": [
    {
     "data": {
      "text/plain": [
       "0.466690098229804"
      ]
     },
     "execution_count": 28,
     "metadata": {},
     "output_type": "execute_result"
    }
   ],
   "source": [
    "f1_score(ytest, ans, average='macro')"
   ]
  },
  {
   "cell_type": "code",
   "execution_count": null,
   "metadata": {},
   "outputs": [],
   "source": []
  },
  {
   "cell_type": "code",
   "execution_count": null,
   "metadata": {},
   "outputs": [],
   "source": []
  },
  {
   "cell_type": "code",
   "execution_count": null,
   "metadata": {},
   "outputs": [],
   "source": []
  },
  {
   "cell_type": "code",
   "execution_count": 2,
   "metadata": {},
   "outputs": [
    {
     "data": {
      "text/plain": [
       "(14438, 38060)"
      ]
     },
     "execution_count": 2,
     "metadata": {},
     "output_type": "execute_result"
    }
   ],
   "source": [
    "vectorizer = TfidfVectorizer()\n",
    "X = vectorizer.fit_transform(x_train)\n",
    "X.shape"
   ]
  },
  {
   "cell_type": "code",
   "execution_count": null,
   "metadata": {},
   "outputs": [],
   "source": []
  },
  {
   "cell_type": "code",
   "execution_count": null,
   "metadata": {},
   "outputs": [],
   "source": []
  },
  {
   "cell_type": "code",
   "execution_count": null,
   "metadata": {},
   "outputs": [],
   "source": []
  },
  {
   "cell_type": "code",
   "execution_count": null,
   "metadata": {},
   "outputs": [],
   "source": []
  },
  {
   "cell_type": "code",
   "execution_count": 3,
   "metadata": {},
   "outputs": [],
   "source": [
    "X_test = vectorizer.transform(x_test)"
   ]
  },
  {
   "cell_type": "code",
   "execution_count": 4,
   "metadata": {},
   "outputs": [
    {
     "data": {
      "text/plain": [
       "(14442, 38060)"
      ]
     },
     "execution_count": 4,
     "metadata": {},
     "output_type": "execute_result"
    }
   ],
   "source": [
    "X_test.shape"
   ]
  },
  {
   "cell_type": "code",
   "execution_count": 5,
   "metadata": {},
   "outputs": [],
   "source": [
    "cossim_mat = X_test.dot(X.T)"
   ]
  },
  {
   "cell_type": "code",
   "execution_count": 6,
   "metadata": {},
   "outputs": [
    {
     "data": {
      "text/plain": [
       "(14442, 14438)"
      ]
     },
     "execution_count": 6,
     "metadata": {},
     "output_type": "execute_result"
    }
   ],
   "source": [
    "cossim_mat.shape\n",
    "# (test, train)"
   ]
  },
  {
   "cell_type": "code",
   "execution_count": null,
   "metadata": {},
   "outputs": [],
   "source": []
  },
  {
   "cell_type": "code",
   "execution_count": null,
   "metadata": {},
   "outputs": [],
   "source": []
  },
  {
   "cell_type": "code",
   "execution_count": null,
   "metadata": {},
   "outputs": [],
   "source": []
  },
  {
   "cell_type": "code",
   "execution_count": null,
   "metadata": {},
   "outputs": [],
   "source": []
  },
  {
   "cell_type": "code",
   "execution_count": 7,
   "metadata": {},
   "outputs": [
    {
     "data": {
      "text/plain": [
       "(14442, 14438)"
      ]
     },
     "execution_count": 7,
     "metadata": {},
     "output_type": "execute_result"
    }
   ],
   "source": [
    "cossim_arr = cossim_mat.toarray()\n",
    "cossim_arr.shape\n",
    "#test, train"
   ]
  },
  {
   "cell_type": "code",
   "execution_count": 8,
   "metadata": {},
   "outputs": [
    {
     "name": "stdout",
     "output_type": "stream",
     "text": [
      "[[0.04468925 0.06735867 0.03636464 ... 0.06460621 0.08486988 0.0656811 ]\n",
      " [0.02648307 0.03843503 0.01928721 ... 0.0481624  0.02906032 0.03076613]\n",
      " [0.01796505 0.04231999 0.01849211 ... 0.02514022 0.12432123 0.02687808]\n",
      " ...\n",
      " [0.02451196 0.03474795 0.01558273 ... 0.03576132 0.03022565 0.03302707]\n",
      " [0.00873286 0.03414532 0.00684567 ... 0.01204491 0.01869213 0.0363827 ]\n",
      " [0.028238   0.04873663 0.01830453 ... 0.03866297 0.03201441 0.06096187]]\n"
     ]
    }
   ],
   "source": [
    "print(cossim_arr)"
   ]
  },
  {
   "cell_type": "code",
   "execution_count": null,
   "metadata": {},
   "outputs": [],
   "source": []
  },
  {
   "cell_type": "code",
   "execution_count": 18,
   "metadata": {},
   "outputs": [
    {
     "name": "stdout",
     "output_type": "stream",
     "text": [
      "1\n",
      "1001\n",
      "2001\n",
      "3001\n",
      "4001\n",
      "5001\n",
      "6001\n",
      "7001\n",
      "8001\n",
      "9001\n",
      "10001\n",
      "11001\n",
      "12001\n",
      "13001\n",
      "14001\n"
     ]
    }
   ],
   "source": [
    "ans = []\n",
    "for m, csms in enumerate(cossim_arr):\n",
    "    sims = array([(csms[i], int(i)) for i in range(len(csms))], dtype=object)\n",
    "#     print(m, sims)\n",
    "    sims = array(sorted(sims, key=lambda x: x[0], reverse=True)[:k])\n",
    "    ans_arr = array([0.0]*6)\n",
    "    for i, j in sims:\n",
    "        ans_arr[y_train[j]] += (1/(1.001-i)) if i > 0.1 else 0\n",
    "    ans.append(ans_arr.argmax())\n",
    "    if m%1000==1:\n",
    "        print(m)\n"
   ]
  },
  {
   "cell_type": "code",
   "execution_count": 19,
   "metadata": {},
   "outputs": [
    {
     "data": {
      "text/plain": [
       "0.23542445644647556"
      ]
     },
     "execution_count": 19,
     "metadata": {},
     "output_type": "execute_result"
    }
   ],
   "source": [
    "sum([\n",
    "    i == j for i,j in zip(ans, y_test)\n",
    "])/len(y_test)"
   ]
  },
  {
   "cell_type": "code",
   "execution_count": 21,
   "metadata": {},
   "outputs": [],
   "source": [
    "with open('output1.txt', 'w') as f:\n",
    "    for i in ans:\n",
    "        f.write(str(i)+'\\n')\n",
    "        "
   ]
  },
  {
   "cell_type": "code",
   "execution_count": null,
   "metadata": {},
   "outputs": [],
   "source": []
  }
 ],
 "metadata": {
  "kernelspec": {
   "display_name": "hubpy3.9-detectron2",
   "language": "python",
   "name": "hubpy3.9-detectron2"
  },
  "language_info": {
   "codemirror_mode": {
    "name": "ipython",
    "version": 3
   },
   "file_extension": ".py",
   "mimetype": "text/x-python",
   "name": "python",
   "nbconvert_exporter": "python",
   "pygments_lexer": "ipython3",
   "version": "3.9.9"
  }
 },
 "nbformat": 4,
 "nbformat_minor": 4
}
